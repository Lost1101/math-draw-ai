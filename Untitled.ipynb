{
 "cells": [
  {
   "cell_type": "code",
   "execution_count": 1,
   "id": "986ff2ff-592f-41b8-aaf6-e336e8787ca4",
   "metadata": {},
   "outputs": [
    {
     "name": "stdout",
     "output_type": "stream",
     "text": [
      "Downloading data from https://storage.googleapis.com/tensorflow/tf-keras-datasets/mnist.npz\n",
      "11490434/11490434 [==============================] - 10s 1us/step\n"
     ]
    }
   ],
   "source": [
    "import tensorflow as tf\n",
    "from tensorflow.keras.datasets import mnist\n",
    "from tensorflow.keras.utils import to_categorical\n",
    "\n",
    "# Mengimpor dataset MNIST\n",
    "(X_train, y_train), (X_test, y_test) = mnist.load_data()\n",
    "\n",
    "# Mengubah bentuk data menjadi (60000, 28, 28, 1) dan (10000, 28, 28, 1) serta normalisasi nilai piksel ke rentang 0-1\n",
    "X_train = X_train.reshape((X_train.shape[0], 28, 28, 1)).astype('float32') / 255\n",
    "X_test = X_test.reshape((X_test.shape[0], 28, 28, 1)).astype('float32') / 255\n",
    "\n",
    "# Mengubah label menjadi one-hot encoding\n",
    "y_train = to_categorical(y_train, 10)\n",
    "y_test = to_categorical(y_test, 10)\n"
   ]
  },
  {
   "cell_type": "code",
   "execution_count": 2,
   "id": "97e7fefb-23b5-4d89-9dbe-b04d4b87d51e",
   "metadata": {},
   "outputs": [],
   "source": [
    "from tensorflow.keras.models import Sequential\n",
    "from tensorflow.keras.layers import Conv2D, MaxPooling2D, Flatten, Dense\n",
    "\n",
    "# Membuat model Sequential\n",
    "model = Sequential()\n",
    "\n",
    "# Menambahkan lapisan konvolusi pertama dengan 32 filter, ukuran kernel 3x3, dan fungsi aktivasi 'relu'\n",
    "model.add(Conv2D(32, (3, 3), activation='relu', input_shape=(28, 28, 1)))\n",
    "\n",
    "# Menambahkan lapisan pooling dengan ukuran 2x2\n",
    "model.add(MaxPooling2D((2, 2)))\n",
    "\n",
    "# Menambahkan lapisan konvolusi kedua dengan 64 filter, ukuran kernel 3x3, dan fungsi aktivasi 'relu'\n",
    "model.add(Conv2D(64, (3, 3), activation='relu'))\n",
    "\n",
    "# Menambahkan lapisan pooling dengan ukuran 2x2\n",
    "model.add(MaxPooling2D((2, 2)))\n",
    "\n",
    "# Meratakan hasil dari lapisan sebelumnya\n",
    "model.add(Flatten())\n",
    "\n",
    "# Menambahkan lapisan Dense dengan 128 neuron dan fungsi aktivasi 'relu'\n",
    "model.add(Dense(128, activation='relu'))\n",
    "\n",
    "# Menambahkan lapisan output dengan 10 neuron (sesuai dengan 10 kelas) dan fungsi aktivasi 'softmax'\n",
    "model.add(Dense(10, activation='softmax'))"
   ]
  },
  {
   "cell_type": "code",
   "execution_count": 3,
   "id": "3b419376-200c-4386-94c2-286f04d2fa44",
   "metadata": {},
   "outputs": [
    {
     "name": "stdout",
     "output_type": "stream",
     "text": [
      "Epoch 1/10\n",
      "469/469 [==============================] - 50s 103ms/step - loss: 0.2029 - accuracy: 0.9417 - val_loss: 0.0611 - val_accuracy: 0.9802\n",
      "Epoch 2/10\n",
      "469/469 [==============================] - 47s 100ms/step - loss: 0.0551 - accuracy: 0.9828 - val_loss: 0.0377 - val_accuracy: 0.9880\n",
      "Epoch 3/10\n",
      "469/469 [==============================] - 52s 111ms/step - loss: 0.0391 - accuracy: 0.9881 - val_loss: 0.0316 - val_accuracy: 0.9885\n",
      "Epoch 4/10\n",
      "469/469 [==============================] - 49s 104ms/step - loss: 0.0285 - accuracy: 0.9910 - val_loss: 0.0325 - val_accuracy: 0.9895\n",
      "Epoch 5/10\n",
      "469/469 [==============================] - 74s 157ms/step - loss: 0.0221 - accuracy: 0.9931 - val_loss: 0.0317 - val_accuracy: 0.9896\n",
      "Epoch 6/10\n",
      "469/469 [==============================] - 62s 133ms/step - loss: 0.0192 - accuracy: 0.9939 - val_loss: 0.0262 - val_accuracy: 0.9903\n",
      "Epoch 7/10\n",
      "469/469 [==============================] - 52s 111ms/step - loss: 0.0140 - accuracy: 0.9953 - val_loss: 0.0252 - val_accuracy: 0.9921\n",
      "Epoch 8/10\n",
      "469/469 [==============================] - 57s 121ms/step - loss: 0.0109 - accuracy: 0.9967 - val_loss: 0.0271 - val_accuracy: 0.9914\n",
      "Epoch 9/10\n",
      "469/469 [==============================] - 51s 109ms/step - loss: 0.0104 - accuracy: 0.9965 - val_loss: 0.0390 - val_accuracy: 0.9887\n",
      "Epoch 10/10\n",
      "469/469 [==============================] - 55s 116ms/step - loss: 0.0093 - accuracy: 0.9968 - val_loss: 0.0299 - val_accuracy: 0.9919\n"
     ]
    },
    {
     "data": {
      "text/plain": [
       "<keras.src.callbacks.History at 0x1ea1cf5ec10>"
      ]
     },
     "execution_count": 3,
     "metadata": {},
     "output_type": "execute_result"
    }
   ],
   "source": [
    "# Mengompilasi model\n",
    "model.compile(optimizer='adam', loss='categorical_crossentropy', metrics=['accuracy'])\n",
    "\n",
    "# Melatih model\n",
    "model.fit(X_train, y_train, epochs=10, batch_size=128, validation_data=(X_test, y_test))"
   ]
  },
  {
   "cell_type": "code",
   "execution_count": 4,
   "id": "0958308b-9d11-4309-9927-5ebf450c48f7",
   "metadata": {},
   "outputs": [
    {
     "name": "stdout",
     "output_type": "stream",
     "text": [
      "313/313 [==============================] - 3s 10ms/step - loss: 0.0299 - accuracy: 0.9919\n",
      "Akurasi: 99.19%\n"
     ]
    }
   ],
   "source": [
    "# Mengevaluasi model pada data uji\n",
    "loss, accuracy = model.evaluate(X_test, y_test)\n",
    "print(f'Akurasi: {accuracy*100:.2f}%')"
   ]
  },
  {
   "cell_type": "code",
   "execution_count": 5,
   "id": "abb54745-f5cf-46a0-8103-89bbc6abd3da",
   "metadata": {},
   "outputs": [
    {
     "name": "stderr",
     "output_type": "stream",
     "text": [
      "C:\\Users\\Lenovo\\AppData\\Local\\Programs\\Python\\Python39\\lib\\site-packages\\keras\\src\\engine\\training.py:3079: UserWarning: You are saving your model as an HDF5 file via `model.save()`. This file format is considered legacy. We recommend using instead the native Keras format, e.g. `model.save('my_model.keras')`.\n",
      "  saving_api.save_model(\n"
     ]
    }
   ],
   "source": [
    "# Menyimpan model yang telah dilatih ke file\n",
    "model.save('mnist_trained_model.h5')"
   ]
  },
  {
   "cell_type": "code",
   "execution_count": 13,
   "id": "f6734592-c6e2-4d09-9f34-09942456196d",
   "metadata": {},
   "outputs": [
    {
     "name": "stdout",
     "output_type": "stream",
     "text": [
      "1/1 [==============================] - 0s 123ms/step\n"
     ]
    },
    {
     "data": {
      "image/png": "[encoded data removed]",
      "text/plain": [
       "<Figure size 640x480 with 1 Axes>"
      ]
     },
     "metadata": {},
     "output_type": "display_data"
    }
   ],
   "source": [
    "import numpy as np\n",
    "import matplotlib.pyplot as plt\n",
    "from tensorflow.keras.models import load_model\n",
    "from tensorflow.keras.datasets import mnist\n",
    "\n",
    "# Memuat dataset MNIST\n",
    "(_, _), (X_test, y_test) = mnist.load_data()\n",
    "\n",
    "# Preprocessing data\n",
    "X_test = X_test.reshape((X_test.shape[0], 28, 28, 1)).astype('float32') / 255\n",
    "y_test = to_categorical(y_test, 10)\n",
    "\n",
    "# Memuat model dari file\n",
    "model = load_model('mnist_trained_model.h5')\n",
    "\n",
    "# Memilih satu gambar dari data uji\n",
    "index = 20  # Anda bisa mengganti index untuk melihat gambar lain\n",
    "image = X_test[index]\n",
    "true_label = np.argmax(y_test[index])\n",
    "\n",
    "# Membuat prediksi\n",
    "prediction = model.predict(np.expand_dims(image, axis=0))\n",
    "predicted_label = np.argmax(prediction)\n",
    "\n",
    "# Menampilkan gambar dan hasil prediksi\n",
    "plt.imshow(image.reshape(28, 28), cmap='gray')\n",
    "plt.title(f'Prediksi: {predicted_label}, Label Sebenarnya: {true_label}')\n",
    "plt.axis('off')\n",
    "plt.show()"
   ]
  },
  {
   "cell_type": "code",
   "execution_count": null,
   "id": "a739f586-6efc-4798-b1ed-0dbbfa7a33ee",
   "metadata": {},
   "outputs": [],
   "source": []
  }
 ],
 "metadata": {
  "kernelspec": {
   "display_name": "Python 3 (ipykernel)",
   "language": "python",
   "name": "python3"
  },
  "language_info": {
   "codemirror_mode": {
    "name": "ipython",
    "version": 3
   },
   "file_extension": ".py",
   "mimetype": "text/x-python",
   "name": "python",
   "nbconvert_exporter": "python",
   "pygments_lexer": "ipython3",
   "version": "3.9.13"
  }
 },
 "nbformat": 4,
 "nbformat_minor": 5
}
